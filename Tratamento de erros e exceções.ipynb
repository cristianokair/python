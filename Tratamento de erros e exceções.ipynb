{
 "cells": [
  {
   "cell_type": "code",
   "execution_count": 3,
   "metadata": {},
   "outputs": [
    {
     "name": "stdout",
     "output_type": "stream",
     "text": [
      "Divisão por zero, atribuindo None à variável\n",
      "None\n"
     ]
    }
   ],
   "source": [
    "#tratamento de erros\n",
    "x = 5\n",
    "y = 0\n",
    "try:\n",
    "    z = x/y\n",
    "except ZeroDivisionError:\n",
    "    z = None\n",
    "    print (\"Divisão por zero, atribuindo None à variável\")\n",
    "print(z)"
   ]
  },
  {
   "cell_type": "code",
   "execution_count": 4,
   "metadata": {},
   "outputs": [],
   "source": [
    "def fn(x, y, z=1):\n",
    "    return (x**y)/z"
   ]
  },
  {
   "cell_type": "code",
   "execution_count": 5,
   "metadata": {},
   "outputs": [
    {
     "name": "stdout",
     "output_type": "stream",
     "text": [
      "Divisão por zero, atribuindo None à variável\n"
     ]
    }
   ],
   "source": [
    "try:\n",
    "    a = fn(2, 2, 0)\n",
    "except ZeroDivisionError:\n",
    "    a = None\n",
    "    print (\"Divisão por zero, atribuindo None à variável\")\n",
    "except OverflowError:\n",
    "    a = None\n",
    "    print (\"Resultado muito grande, atribuindo None à variável\")"
   ]
  },
  {
   "cell_type": "code",
   "execution_count": 6,
   "metadata": {},
   "outputs": [
    {
     "name": "stdout",
     "output_type": "stream",
     "text": [
      "Resultado muito grande, atribuindo None à variável\n"
     ]
    }
   ],
   "source": [
    "try:\n",
    "    a = fn(5.0, 1000.0, 1)\n",
    "except ZeroDivisionError:\n",
    "    a = None\n",
    "    print (\"Divisão por zero, atribuindo None à variável\")\n",
    "except OverflowError:\n",
    "    a = None\n",
    "    print (\"Resultado muito grande, atribuindo None à variável\")"
   ]
  },
  {
   "cell_type": "code",
   "execution_count": 7,
   "metadata": {},
   "outputs": [
    {
     "name": "stdout",
     "output_type": "stream",
     "text": [
      "Por favor use apenas int\n"
     ]
    }
   ],
   "source": [
    "def soma_int(x, y):\n",
    "    if (not isinstance(x, int)) or (not isinstance(y, int)):\n",
    "        raise TypeError\n",
    "    return x, y\n",
    "try:\n",
    "    soma_int(1.0, 2)\n",
    "except TypeError:\n",
    "    print(\"Por favor use apenas int\")"
   ]
  },
  {
   "cell_type": "code",
   "execution_count": 8,
   "metadata": {},
   "outputs": [
    {
     "name": "stdout",
     "output_type": "stream",
     "text": [
      "division by zero\n"
     ]
    }
   ],
   "source": [
    "try:\n",
    "    z = 5/0\n",
    "except ZeroDivisionError as erro:\n",
    "    print(erro)"
   ]
  },
  {
   "cell_type": "code",
   "execution_count": 9,
   "metadata": {},
   "outputs": [
    {
     "name": "stdout",
     "output_type": "stream",
     "text": [
      "Antes da exceção\n",
      "division by zero\n"
     ]
    }
   ],
   "source": [
    "try:\n",
    "    print(\"Antes da exceção\")\n",
    "    z = 5/0\n",
    "    print(\"Depous da exceção\") # nunca executado por causa da excesão na linha acima\n",
    "except ZeroDivisionError as erro:\n",
    "    print(erro)"
   ]
  },
  {
   "cell_type": "code",
   "execution_count": 10,
   "metadata": {},
   "outputs": [
    {
     "name": "stdout",
     "output_type": "stream",
     "text": [
      "Genérico\n"
     ]
    }
   ],
   "source": [
    "try:\n",
    "    z = 5/0\n",
    "except:\n",
    "    print(\"Genérico\")"
   ]
  },
  {
   "cell_type": "code",
   "execution_count": 11,
   "metadata": {},
   "outputs": [
    {
     "name": "stdout",
     "output_type": "stream",
     "text": [
      "ArithmeticError division by zero\n"
     ]
    }
   ],
   "source": [
    "try:\n",
    "    z = 5/0\n",
    "except ArithmeticError as erro:\n",
    "    print(\"ArithmeticError\", erro)\n",
    "except ZeroDivisionError as erro:\n",
    "    print(\"ZeroDivisionError\", erro)\n",
    "except:\n",
    "    print(\"Genérico\", erro)"
   ]
  },
  {
   "cell_type": "code",
   "execution_count": 12,
   "metadata": {},
   "outputs": [
    {
     "name": "stdout",
     "output_type": "stream",
     "text": [
      "Não há problemas, resultado: 5.0\n"
     ]
    }
   ],
   "source": [
    "try:\n",
    "    z = 5/1\n",
    "except:\n",
    "    print(\"Genérico\")\n",
    "else:\n",
    "    print(\"Não há problemas, resultado:\", z)"
   ]
  },
  {
   "cell_type": "code",
   "execution_count": 13,
   "metadata": {},
   "outputs": [
    {
     "name": "stdout",
     "output_type": "stream",
     "text": [
      "Não há problemas, resultado: 5.0\n",
      "Fazer alguma finalização, por exemplo fechar a conexão com o BD!\n"
     ]
    }
   ],
   "source": [
    "try:\n",
    "    z = 5/1\n",
    "except erro:\n",
    "    print(\"Genérico\", erro)\n",
    "else:\n",
    "    print(\"Não há problemas, resultado:\", z)\n",
    "finally:\n",
    "    print(\"Fazer alguma finalização, por exemplo fechar a conexão com o BD!\")"
   ]
  },
  {
   "cell_type": "code",
   "execution_count": 14,
   "metadata": {},
   "outputs": [
    {
     "name": "stdout",
     "output_type": "stream",
     "text": [
      "Genérico\n",
      "Fazer alguma finalização, por exemplo fechar a conexão com o BD!\n"
     ]
    }
   ],
   "source": [
    "try:\n",
    "    z = 5/0\n",
    "except:\n",
    "    print(\"Genérico\")\n",
    "else:\n",
    "    print(\"Não há problemas, resultado:\", z)\n",
    "finally:\n",
    "    print(\"Fazer alguma finalização, por exemplo fechar a conexão com o BD!\")"
   ]
  }
 ],
 "metadata": {
  "kernelspec": {
   "display_name": "Python 3",
   "language": "python",
   "name": "python3"
  },
  "language_info": {
   "codemirror_mode": {
    "name": "ipython",
    "version": 3
   },
   "file_extension": ".py",
   "mimetype": "text/x-python",
   "name": "python",
   "nbconvert_exporter": "python",
   "pygments_lexer": "ipython3",
   "version": "3.7.7"
  }
 },
 "nbformat": 4,
 "nbformat_minor": 4
}
