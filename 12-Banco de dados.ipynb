{
 "cells": [
  {
   "cell_type": "code",
   "execution_count": 26,
   "metadata": {},
   "outputs": [],
   "source": [
    "import psycopg2"
   ]
  },
  {
   "cell_type": "code",
   "execution_count": 27,
   "metadata": {},
   "outputs": [],
   "source": [
    "conn = psycopg2.connect(\n",
    "    host = 'localhost',\n",
    "    dbname = 'cskdb',\n",
    "    user = 'csk',\n",
    "    password = 'csk123',\n",
    "    port = 5432\n",
    ")\n",
    "cur = conn.cursor()"
   ]
  },
  {
   "cell_type": "code",
   "execution_count": 28,
   "metadata": {},
   "outputs": [],
   "source": [
    "cur.execute(\"CREATE TABLE IF NOT EXISTS mensagem (id serial PRIMARY KEY, prioridade integer, titulo varchar, corpo varchar);\")"
   ]
  },
  {
   "cell_type": "code",
   "execution_count": 29,
   "metadata": {},
   "outputs": [],
   "source": [
    "cur.execute(\"INSERT INTO mensagem (prioridade, titulo, corpo) VALUES (%s, %s,%s)\", (100, \"Yuri's\", \"Minha mensagem\"))"
   ]
  },
  {
   "cell_type": "code",
   "execution_count": 30,
   "metadata": {},
   "outputs": [],
   "source": [
    "conn.commit()\n",
    "cur.close()\n",
    "conn.close()"
   ]
  },
  {
   "cell_type": "code",
   "execution_count": 31,
   "metadata": {},
   "outputs": [],
   "source": [
    "import psycopg2\n",
    "import datetime\n",
    "conn = psycopg2.connect(\n",
    "    host = 'localhost',\n",
    "    dbname = 'cskdb',\n",
    "    user = 'csk',\n",
    "    password = 'csk123',\n",
    "    port = 5432\n",
    ")\n",
    "cur = conn.cursor()\n",
    "cur.execute(\"CREATE TABLE IF NOT EXISTS chat (id serial PRIMARY KEY, prioridade integer, texto varchar, criada date, atualizada date);\")\n",
    "cur.execute(\"\"\"INSERT INTO chat (prioridade, texto, criada, atualizada)\n",
    "VALUES (%(numprioridade)s, %(msg)s, %(data)s, %(data)s);\"\"\",\n",
    "    {'numprioridade': 10, 'msg': \"Olá, tudo bem?\", 'data': datetime.date(2020, 8, 5)})\n",
    "conn.commit()"
   ]
  },
  {
   "cell_type": "code",
   "execution_count": 32,
   "metadata": {},
   "outputs": [],
   "source": [
    "dados = [\n",
    "    {'numprioridade': 15, 'msg': \"Tudo bem e você?\", 'data': datetime.date(2020, 7, 6)},\n",
    "    {'numprioridade': 5, 'msg': \"Estou bem também, obrigado.\", 'data': datetime.date(2020, 7, 6)},\n",
    "    {'numprioridade': 100, 'msg': \"Não esqueça de fazer os questionários da disciplina\", 'data': datetime.date(2020, 7, 6)},\n",
    "]\n",
    "\n",
    "cur.executemany(\"\"\"\n",
    "INSERT INTO\n",
    "    chat\n",
    "    (prioridade, texto, criada, atualizada)\n",
    "VALUES\n",
    "    (%(numprioridade)s, %(msg)s, %(data)s, %(data)s);\n",
    "\"\"\", dados)\n",
    "conn.commit()"
   ]
  },
  {
   "cell_type": "code",
   "execution_count": 33,
   "metadata": {},
   "outputs": [
    {
     "name": "stdout",
     "output_type": "stream",
     "text": [
      "(1, 10, 'Olá, tudo bem?', datetime.date(2020, 8, 5), datetime.date(2020, 8, 5))\n",
      "(2, 15, 'Tudo bem e você?', datetime.date(2020, 7, 6), datetime.date(2020, 7, 6))\n",
      "(3, 5, 'Estou bem também, obrigado.', datetime.date(2020, 7, 6), datetime.date(2020, 7, 6))\n",
      "(4, 100, 'Não esqueça de fazer os questionários da disciplina', datetime.date(2020, 7, 6), datetime.date(2020, 7, 6))\n",
      "(5, 10, 'Olá, tudo bem?', datetime.date(2020, 8, 5), datetime.date(2020, 8, 5))\n",
      "(6, 15, 'Tudo bem e você?', datetime.date(2020, 7, 6), datetime.date(2020, 7, 6))\n",
      "(7, 5, 'Estou bem também, obrigado.', datetime.date(2020, 7, 6), datetime.date(2020, 7, 6))\n",
      "(8, 100, 'Não esqueça de fazer os questionários da disciplina', datetime.date(2020, 7, 6), datetime.date(2020, 7, 6))\n"
     ]
    }
   ],
   "source": [
    "cur.execute('SELECT * FROM chat')\n",
    "for k in cur:\n",
    "    print(k)"
   ]
  },
  {
   "cell_type": "code",
   "execution_count": 34,
   "metadata": {},
   "outputs": [
    {
     "name": "stdout",
     "output_type": "stream",
     "text": [
      "(1, 10, 'Olá, tudo bem?', datetime.date(2020, 8, 5), datetime.date(2020, 8, 5))\n",
      "(3, 5, 'Estou bem também, obrigado.', datetime.date(2020, 7, 6), datetime.date(2020, 7, 6))\n",
      "(5, 10, 'Olá, tudo bem?', datetime.date(2020, 8, 5), datetime.date(2020, 8, 5))\n",
      "(7, 5, 'Estou bem também, obrigado.', datetime.date(2020, 7, 6), datetime.date(2020, 7, 6))\n"
     ]
    }
   ],
   "source": [
    "cur.execute('SELECT * FROM chat WHERE prioridade <= 10')\n",
    "for k in cur:\n",
    "    print(k)"
   ]
  },
  {
   "cell_type": "code",
   "execution_count": 35,
   "metadata": {},
   "outputs": [
    {
     "name": "stdout",
     "output_type": "stream",
     "text": [
      "rowcount 8\n",
      "(Column(name='id', type_code=23), Column(name='prioridade', type_code=23), Column(name='texto', type_code=1043), Column(name='criada', type_code=1082), Column(name='atualizada', type_code=1082))\n"
     ]
    }
   ],
   "source": [
    "cur.execute('SELECT * FROM chat')\n",
    "print(\"rowcount\", cur.rowcount) # número de registros da última consulta\n",
    "print(cur.description) # Uma série de meta informações de cada coluna da última consulta"
   ]
  },
  {
   "cell_type": "code",
   "execution_count": 36,
   "metadata": {},
   "outputs": [
    {
     "name": "stdout",
     "output_type": "stream",
     "text": [
      "Column(name='id', type_code=23)\n",
      "Column(name='prioridade', type_code=23)\n",
      "Column(name='texto', type_code=1043)\n",
      "Column(name='criada', type_code=1082)\n",
      "Column(name='atualizada', type_code=1082)\n"
     ]
    }
   ],
   "source": [
    "for i in cur.description:\n",
    "    print(i)"
   ]
  },
  {
   "cell_type": "code",
   "execution_count": null,
   "metadata": {},
   "outputs": [],
   "source": []
  }
 ],
 "metadata": {
  "kernelspec": {
   "display_name": "Python 3",
   "language": "python",
   "name": "python3"
  },
  "language_info": {
   "codemirror_mode": {
    "name": "ipython",
    "version": 3
   },
   "file_extension": ".py",
   "mimetype": "text/x-python",
   "name": "python",
   "nbconvert_exporter": "python",
   "pygments_lexer": "ipython3",
   "version": "3.7.7"
  }
 },
 "nbformat": 4,
 "nbformat_minor": 4
}
