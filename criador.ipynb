{
 "cells": [
  {
   "cell_type": "code",
   "execution_count": 63,
   "metadata": {},
   "outputs": [],
   "source": [
    "import psycopg2 as pg\n",
    "\n",
    "nomeBanco = \"grupo_extensão\"\n",
    "host = \"localhost\"\n",
    "porta = 5432\n",
    "usuario = \"csk\"\n",
    "senha = \"csk123\"\n",
    "\n",
    "def connectDatabase( nomeBanco = nomeBanco, host = host, porta = porta, usuario = usuario, senha = senha ):\n",
    "    try:\n",
    "        db = pg.connect( \n",
    "            dbname = nomeBanco,\n",
    "            host = host,\n",
    "            port = porta,\n",
    "            user = usuario,\n",
    "            password = senha\n",
    "         )\n",
    "\n",
    "    except Exception as err :\n",
    "        print(\"Falha ao conectar ao banco de dados!\")\n",
    "        print(err)\n",
    "\n",
    "    else:\n",
    "        return db\n",
    "\n",
    "def createDatabase( cursor, db ):\n",
    "    cursor.execute(\n",
    "        \"\"\"\n",
    "        CREATE TABLE IF NOT EXISTS cidade ( codigo_ibge integer PRIMARY KEY, nome_cidade varchar, estado varchar, numero_habitantes integer );\n",
    "        \"\"\"\n",
    "    )\n",
    "    cursor.execute(\n",
    "        \"\"\"\n",
    "        CREATE TABLE IF NOT EXISTS contagio ( codigo_ibge integer, data_registro date, total_casos_confirmados integer, novos_casos_confirmados integer, total_mortes integer, novas_mortes integer );\n",
    "        \"\"\"\n",
    "    )\n",
    "\n",
    "    db.commit()\n",
    "\n",
    "db = connectDatabase()\n",
    "\n",
    "cursor = db.cursor()\n",
    "createDatabase( cursor, db )\n",
    "\n",
    "cursor.close()\n",
    "db.close()"
   ]
  },
  {
   "cell_type": "code",
   "execution_count": 64,
   "metadata": {},
   "outputs": [
    {
     "name": "stdout",
     "output_type": "stream",
     "text": [
      "<connection object at 0x7fa65236e050; dsn: 'user=csk password=xxx dbname=grupo_extensão host=localhost port=5432', closed: 1>\n"
     ]
    }
   ],
   "source": [
    "print(db)"
   ]
  },
  {
   "cell_type": "code",
   "execution_count": null,
   "metadata": {},
   "outputs": [],
   "source": []
  }
 ],
 "metadata": {
  "kernelspec": {
   "display_name": "Python 3",
   "language": "python",
   "name": "python3"
  },
  "language_info": {
   "codemirror_mode": {
    "name": "ipython",
    "version": 3
   },
   "file_extension": ".py",
   "mimetype": "text/x-python",
   "name": "python",
   "nbconvert_exporter": "python",
   "pygments_lexer": "ipython3",
   "version": "3.7.7"
  }
 },
 "nbformat": 4,
 "nbformat_minor": 4
}
