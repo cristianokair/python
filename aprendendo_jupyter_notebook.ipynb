{
 "cells": [
  {
   "cell_type": "code",
   "execution_count": 1,
   "metadata": {},
   "outputs": [],
   "source": [
    "import pandas as pd\n",
    "import numpy as np"
   ]
  },
  {
   "cell_type": "code",
   "execution_count": 2,
   "metadata": {},
   "outputs": [
    {
     "data": {
      "image/png": "[encoded data removed]",
      "text/plain": [
       "<Figure size 432x288 with 1 Axes>"
      ]
     },
     "metadata": {
      "needs_background": "light"
     },
     "output_type": "display_data"
    }
   ],
   "source": [
    "import matplotlib.pyplot as plt\n",
    "plt.plot([1, 2, 3, 4])\n",
    "plt.ylabel('some numbers')\n",
    "plt.show()"
   ]
  },
  {
   "cell_type": "code",
   "execution_count": 4,
   "metadata": {},
   "outputs": [],
   "source": [
    "pd.set_option('display.notebook_repr_html', True)\n",
    "def _repr_latex_(self):\n",
    "    return \"\\centering{%s}\" % self.to_latex()\n",
    "pd.DataFrame._repr_latex_ = _repr_latex_"
   ]
  },
  {
   "cell_type": "code",
   "execution_count": 5,
   "metadata": {},
   "outputs": [
    {
     "data": {
      "text/html": [
       "<div>\n",
       "<style scoped>\n",
       "    .dataframe tbody tr th:only-of-type {\n",
       "        vertical-align: middle;\n",
       "    }\n",
       "\n",
       "    .dataframe tbody tr th {\n",
       "        vertical-align: top;\n",
       "    }\n",
       "\n",
       "    .dataframe thead th {\n",
       "        text-align: right;\n",
       "    }\n",
       "</style>\n",
       "<table border=\"1\" class=\"dataframe\">\n",
       "  <thead>\n",
       "    <tr style=\"text-align: right;\">\n",
       "      <th></th>\n",
       "      <th>city</th>\n",
       "      <th>city_ibge_code</th>\n",
       "      <th>date</th>\n",
       "      <th>epidemiological_week</th>\n",
       "      <th>estimated_population_2019</th>\n",
       "      <th>is_last</th>\n",
       "      <th>is_repeated</th>\n",
       "      <th>last_available_confirmed</th>\n",
       "      <th>last_available_confirmed_per_100k_inhabitants</th>\n",
       "      <th>last_available_date</th>\n",
       "      <th>last_available_death_rate</th>\n",
       "      <th>last_available_deaths</th>\n",
       "      <th>order_for_place</th>\n",
       "      <th>place_type</th>\n",
       "      <th>state</th>\n",
       "      <th>new_confirmed</th>\n",
       "      <th>new_deaths</th>\n",
       "    </tr>\n",
       "  </thead>\n",
       "  <tbody>\n",
       "    <tr>\n",
       "      <th>0</th>\n",
       "      <td>São Paulo</td>\n",
       "      <td>3550308.0</td>\n",
       "      <td>2020-02-25</td>\n",
       "      <td>9</td>\n",
       "      <td>12252023.0</td>\n",
       "      <td>False</td>\n",
       "      <td>False</td>\n",
       "      <td>1</td>\n",
       "      <td>0.00816</td>\n",
       "      <td>2020-02-25</td>\n",
       "      <td>0.0</td>\n",
       "      <td>0</td>\n",
       "      <td>1</td>\n",
       "      <td>city</td>\n",
       "      <td>SP</td>\n",
       "      <td>1</td>\n",
       "      <td>0</td>\n",
       "    </tr>\n",
       "    <tr>\n",
       "      <th>1</th>\n",
       "      <td>NaN</td>\n",
       "      <td>35.0</td>\n",
       "      <td>2020-02-25</td>\n",
       "      <td>9</td>\n",
       "      <td>45919049.0</td>\n",
       "      <td>False</td>\n",
       "      <td>False</td>\n",
       "      <td>1</td>\n",
       "      <td>0.00218</td>\n",
       "      <td>2020-02-25</td>\n",
       "      <td>0.0</td>\n",
       "      <td>0</td>\n",
       "      <td>1</td>\n",
       "      <td>state</td>\n",
       "      <td>SP</td>\n",
       "      <td>1</td>\n",
       "      <td>0</td>\n",
       "    </tr>\n",
       "    <tr>\n",
       "      <th>2</th>\n",
       "      <td>São Paulo</td>\n",
       "      <td>3550308.0</td>\n",
       "      <td>2020-02-26</td>\n",
       "      <td>9</td>\n",
       "      <td>12252023.0</td>\n",
       "      <td>False</td>\n",
       "      <td>False</td>\n",
       "      <td>1</td>\n",
       "      <td>0.00816</td>\n",
       "      <td>2020-02-26</td>\n",
       "      <td>0.0</td>\n",
       "      <td>0</td>\n",
       "      <td>2</td>\n",
       "      <td>city</td>\n",
       "      <td>SP</td>\n",
       "      <td>0</td>\n",
       "      <td>0</td>\n",
       "    </tr>\n",
       "    <tr>\n",
       "      <th>3</th>\n",
       "      <td>NaN</td>\n",
       "      <td>35.0</td>\n",
       "      <td>2020-02-26</td>\n",
       "      <td>9</td>\n",
       "      <td>45919049.0</td>\n",
       "      <td>False</td>\n",
       "      <td>False</td>\n",
       "      <td>1</td>\n",
       "      <td>0.00218</td>\n",
       "      <td>2020-02-26</td>\n",
       "      <td>0.0</td>\n",
       "      <td>0</td>\n",
       "      <td>2</td>\n",
       "      <td>state</td>\n",
       "      <td>SP</td>\n",
       "      <td>0</td>\n",
       "      <td>0</td>\n",
       "    </tr>\n",
       "    <tr>\n",
       "      <th>4</th>\n",
       "      <td>São Paulo</td>\n",
       "      <td>3550308.0</td>\n",
       "      <td>2020-02-27</td>\n",
       "      <td>9</td>\n",
       "      <td>12252023.0</td>\n",
       "      <td>False</td>\n",
       "      <td>False</td>\n",
       "      <td>1</td>\n",
       "      <td>0.00816</td>\n",
       "      <td>2020-02-27</td>\n",
       "      <td>0.0</td>\n",
       "      <td>0</td>\n",
       "      <td>3</td>\n",
       "      <td>city</td>\n",
       "      <td>SP</td>\n",
       "      <td>0</td>\n",
       "      <td>0</td>\n",
       "    </tr>\n",
       "  </tbody>\n",
       "</table>\n",
       "</div>"
      ],
      "text/latex": [
       "\\centering{\\begin{tabular}{llrlrrllrrlrrrllrr}\n",
       "\\toprule\n",
       "{} &       city &  city\\_ibge\\_code &        date &  epidemiological\\_week &  estimated\\_population\\_2019 &  is\\_last &  is\\_repeated &  last\\_available\\_confirmed &  last\\_available\\_confirmed\\_per\\_100k\\_inhabitants & last\\_available\\_date &  last\\_available\\_death\\_rate &  last\\_available\\_deaths &  order\\_for\\_place & place\\_type & state &  new\\_confirmed &  new\\_deaths \\\\\n",
       "\\midrule\n",
       "0 &  São Paulo &       3550308.0 &  2020-02-25 &                     9 &                 12252023.0 &    False &        False &                         1 &                                        0.00816 &          2020-02-25 &                        0.0 &                      0 &                1 &       city &    SP &              1 &           0 \\\\\n",
       "1 &        NaN &            35.0 &  2020-02-25 &                     9 &                 45919049.0 &    False &        False &                         1 &                                        0.00218 &          2020-02-25 &                        0.0 &                      0 &                1 &      state &    SP &              1 &           0 \\\\\n",
       "2 &  São Paulo &       3550308.0 &  2020-02-26 &                     9 &                 12252023.0 &    False &        False &                         1 &                                        0.00816 &          2020-02-26 &                        0.0 &                      0 &                2 &       city &    SP &              0 &           0 \\\\\n",
       "3 &        NaN &            35.0 &  2020-02-26 &                     9 &                 45919049.0 &    False &        False &                         1 &                                        0.00218 &          2020-02-26 &                        0.0 &                      0 &                2 &      state &    SP &              0 &           0 \\\\\n",
       "4 &  São Paulo &       3550308.0 &  2020-02-27 &                     9 &                 12252023.0 &    False &        False &                         1 &                                        0.00816 &          2020-02-27 &                        0.0 &                      0 &                3 &       city &    SP &              0 &           0 \\\\\n",
       "\\bottomrule\n",
       "\\end{tabular}\n",
       "}"
      ],
      "text/plain": [
       "        city  city_ibge_code        date  epidemiological_week  \\\n",
       "0  São Paulo       3550308.0  2020-02-25                     9   \n",
       "1        NaN            35.0  2020-02-25                     9   \n",
       "2  São Paulo       3550308.0  2020-02-26                     9   \n",
       "3        NaN            35.0  2020-02-26                     9   \n",
       "4  São Paulo       3550308.0  2020-02-27                     9   \n",
       "\n",
       "   estimated_population_2019  is_last  is_repeated  last_available_confirmed  \\\n",
       "0                 12252023.0    False        False                         1   \n",
       "1                 45919049.0    False        False                         1   \n",
       "2                 12252023.0    False        False                         1   \n",
       "3                 45919049.0    False        False                         1   \n",
       "4                 12252023.0    False        False                         1   \n",
       "\n",
       "   last_available_confirmed_per_100k_inhabitants last_available_date  \\\n",
       "0                                        0.00816          2020-02-25   \n",
       "1                                        0.00218          2020-02-25   \n",
       "2                                        0.00816          2020-02-26   \n",
       "3                                        0.00218          2020-02-26   \n",
       "4                                        0.00816          2020-02-27   \n",
       "\n",
       "   last_available_death_rate  last_available_deaths  order_for_place  \\\n",
       "0                        0.0                      0                1   \n",
       "1                        0.0                      0                1   \n",
       "2                        0.0                      0                2   \n",
       "3                        0.0                      0                2   \n",
       "4                        0.0                      0                3   \n",
       "\n",
       "  place_type state  new_confirmed  new_deaths  \n",
       "0       city    SP              1           0  \n",
       "1      state    SP              1           0  \n",
       "2       city    SP              0           0  \n",
       "3      state    SP              0           0  \n",
       "4       city    SP              0           0  "
      ]
     },
     "execution_count": 5,
     "metadata": {},
     "output_type": "execute_result"
    }
   ],
   "source": [
    "df_completo = pd.read_csv(\"covid19_casos_brasil.csv\")\n",
    "df_completo.head()"
   ]
  },
  {
   "cell_type": "code",
   "execution_count": 6,
   "metadata": {},
   "outputs": [
    {
     "name": "stdout",
     "output_type": "stream",
     "text": [
      "        city  city_ibge_code        date  epidemiological_week  \\\n",
      "0  São Paulo       3550308.0  2020-02-25                     9   \n",
      "1        NaN            35.0  2020-02-25                     9   \n",
      "\n",
      "   estimated_population_2019  is_last  is_repeated  last_available_confirmed  \\\n",
      "0                 12252023.0    False        False                         1   \n",
      "1                 45919049.0    False        False                         1   \n",
      "\n",
      "   last_available_confirmed_per_100k_inhabitants last_available_date  \\\n",
      "0                                        0.00816          2020-02-25   \n",
      "1                                        0.00218          2020-02-25   \n",
      "\n",
      "   last_available_death_rate  last_available_deaths  order_for_place  \\\n",
      "0                        0.0                      0                1   \n",
      "1                        0.0                      0                1   \n",
      "\n",
      "  place_type state  new_confirmed  new_deaths  \n",
      "0       city    SP              1           0  \n",
      "1      state    SP              1           0  \n"
     ]
    }
   ],
   "source": [
    " print(df_completo.head(2))"
   ]
  },
  {
   "cell_type": "code",
   "execution_count": 7,
   "metadata": {},
   "outputs": [
    {
     "data": {
      "text/html": [
       "<div>\n",
       "<style scoped>\n",
       "    .dataframe tbody tr th:only-of-type {\n",
       "        vertical-align: middle;\n",
       "    }\n",
       "\n",
       "    .dataframe tbody tr th {\n",
       "        vertical-align: top;\n",
       "    }\n",
       "\n",
       "    .dataframe thead th {\n",
       "        text-align: right;\n",
       "    }\n",
       "</style>\n",
       "<table border=\"1\" class=\"dataframe\">\n",
       "  <thead>\n",
       "    <tr style=\"text-align: right;\">\n",
       "      <th></th>\n",
       "      <th>city</th>\n",
       "      <th>date</th>\n",
       "      <th>last_available_confirmed</th>\n",
       "      <th>last_available_deaths</th>\n",
       "    </tr>\n",
       "  </thead>\n",
       "  <tbody>\n",
       "    <tr>\n",
       "      <th>0</th>\n",
       "      <td>São Paulo</td>\n",
       "      <td>2020-02-25</td>\n",
       "      <td>1</td>\n",
       "      <td>0</td>\n",
       "    </tr>\n",
       "    <tr>\n",
       "      <th>1</th>\n",
       "      <td>NaN</td>\n",
       "      <td>2020-02-25</td>\n",
       "      <td>1</td>\n",
       "      <td>0</td>\n",
       "    </tr>\n",
       "    <tr>\n",
       "      <th>2</th>\n",
       "      <td>São Paulo</td>\n",
       "      <td>2020-02-26</td>\n",
       "      <td>1</td>\n",
       "      <td>0</td>\n",
       "    </tr>\n",
       "    <tr>\n",
       "      <th>3</th>\n",
       "      <td>NaN</td>\n",
       "      <td>2020-02-26</td>\n",
       "      <td>1</td>\n",
       "      <td>0</td>\n",
       "    </tr>\n",
       "    <tr>\n",
       "      <th>4</th>\n",
       "      <td>São Paulo</td>\n",
       "      <td>2020-02-27</td>\n",
       "      <td>1</td>\n",
       "      <td>0</td>\n",
       "    </tr>\n",
       "  </tbody>\n",
       "</table>\n",
       "</div>"
      ],
      "text/latex": [
       "\\centering{\\begin{tabular}{lllrr}\n",
       "\\toprule\n",
       "{} &       city &        date &  last\\_available\\_confirmed &  last\\_available\\_deaths \\\\\n",
       "\\midrule\n",
       "0 &  São Paulo &  2020-02-25 &                         1 &                      0 \\\\\n",
       "1 &        NaN &  2020-02-25 &                         1 &                      0 \\\\\n",
       "2 &  São Paulo &  2020-02-26 &                         1 &                      0 \\\\\n",
       "3 &        NaN &  2020-02-26 &                         1 &                      0 \\\\\n",
       "4 &  São Paulo &  2020-02-27 &                         1 &                      0 \\\\\n",
       "\\bottomrule\n",
       "\\end{tabular}\n",
       "}"
      ],
      "text/plain": [
       "        city        date  last_available_confirmed  last_available_deaths\n",
       "0  São Paulo  2020-02-25                         1                      0\n",
       "1        NaN  2020-02-25                         1                      0\n",
       "2  São Paulo  2020-02-26                         1                      0\n",
       "3        NaN  2020-02-26                         1                      0\n",
       "4  São Paulo  2020-02-27                         1                      0"
      ]
     },
     "execution_count": 7,
     "metadata": {},
     "output_type": "execute_result"
    }
   ],
   "source": [
    "cols = ['city', 'date', 'last_available_confirmed', 'last_available_deaths']\n",
    "df_completo.head()[cols]"
   ]
  },
  {
   "cell_type": "code",
   "execution_count": 9,
   "metadata": {},
   "outputs": [
    {
     "data": {
      "text/html": [
       "<div>\n",
       "<style scoped>\n",
       "    .dataframe tbody tr th:only-of-type {\n",
       "        vertical-align: middle;\n",
       "    }\n",
       "\n",
       "    .dataframe tbody tr th {\n",
       "        vertical-align: top;\n",
       "    }\n",
       "\n",
       "    .dataframe thead th {\n",
       "        text-align: right;\n",
       "    }\n",
       "</style>\n",
       "<table border=\"1\" class=\"dataframe\">\n",
       "  <thead>\n",
       "    <tr style=\"text-align: right;\">\n",
       "      <th></th>\n",
       "      <th>city</th>\n",
       "      <th>date</th>\n",
       "      <th>last_available_confirmed</th>\n",
       "      <th>last_available_deaths</th>\n",
       "    </tr>\n",
       "  </thead>\n",
       "  <tbody>\n",
       "    <tr>\n",
       "      <th>330241</th>\n",
       "      <td>Dois Vizinhos</td>\n",
       "      <td>2020-07-08</td>\n",
       "      <td>16</td>\n",
       "      <td>0</td>\n",
       "    </tr>\n",
       "    <tr>\n",
       "      <th>335600</th>\n",
       "      <td>Dois Vizinhos</td>\n",
       "      <td>2020-07-09</td>\n",
       "      <td>16</td>\n",
       "      <td>0</td>\n",
       "    </tr>\n",
       "    <tr>\n",
       "      <th>340965</th>\n",
       "      <td>Dois Vizinhos</td>\n",
       "      <td>2020-07-10</td>\n",
       "      <td>17</td>\n",
       "      <td>0</td>\n",
       "    </tr>\n",
       "    <tr>\n",
       "      <th>346335</th>\n",
       "      <td>Dois Vizinhos</td>\n",
       "      <td>2020-07-11</td>\n",
       "      <td>17</td>\n",
       "      <td>0</td>\n",
       "    </tr>\n",
       "    <tr>\n",
       "      <th>351707</th>\n",
       "      <td>Dois Vizinhos</td>\n",
       "      <td>2020-07-12</td>\n",
       "      <td>17</td>\n",
       "      <td>0</td>\n",
       "    </tr>\n",
       "  </tbody>\n",
       "</table>\n",
       "</div>"
      ],
      "text/latex": [
       "\\centering{\\begin{tabular}{lllrr}\n",
       "\\toprule\n",
       "{} &           city &        date &  last\\_available\\_confirmed &  last\\_available\\_deaths \\\\\n",
       "\\midrule\n",
       "330241 &  Dois Vizinhos &  2020-07-08 &                        16 &                      0 \\\\\n",
       "335600 &  Dois Vizinhos &  2020-07-09 &                        16 &                      0 \\\\\n",
       "340965 &  Dois Vizinhos &  2020-07-10 &                        17 &                      0 \\\\\n",
       "346335 &  Dois Vizinhos &  2020-07-11 &                        17 &                      0 \\\\\n",
       "351707 &  Dois Vizinhos &  2020-07-12 &                        17 &                      0 \\\\\n",
       "\\bottomrule\n",
       "\\end{tabular}\n",
       "}"
      ],
      "text/plain": [
       "                 city        date  last_available_confirmed  \\\n",
       "330241  Dois Vizinhos  2020-07-08                        16   \n",
       "335600  Dois Vizinhos  2020-07-09                        16   \n",
       "340965  Dois Vizinhos  2020-07-10                        17   \n",
       "346335  Dois Vizinhos  2020-07-11                        17   \n",
       "351707  Dois Vizinhos  2020-07-12                        17   \n",
       "\n",
       "        last_available_deaths  \n",
       "330241                      0  \n",
       "335600                      0  \n",
       "340965                      0  \n",
       "346335                      0  \n",
       "351707                      0  "
      ]
     },
     "execution_count": 9,
     "metadata": {},
     "output_type": "execute_result"
    }
   ],
   "source": [
    "filtro_cidade_DV = df_completo['city'] == 'Dois Vizinhos'\n",
    "df_DV = df_completo[filtro_cidade_DV]\n",
    "df_DV.tail()[cols]"
   ]
  },
  {
   "cell_type": "code",
   "execution_count": 10,
   "metadata": {},
   "outputs": [
    {
     "name": "stdout",
     "output_type": "stream",
     "text": [
      "Index(['city', 'city_ibge_code', 'date', 'epidemiological_week',\n",
      "       'estimated_population_2019', 'is_last', 'is_repeated',\n",
      "       'last_available_confirmed',\n",
      "       'last_available_confirmed_per_100k_inhabitants', 'last_available_date',\n",
      "       'last_available_death_rate', 'last_available_deaths', 'order_for_place',\n",
      "       'place_type', 'state', 'new_confirmed', 'new_deaths'],\n",
      "      dtype='object')\n"
     ]
    }
   ],
   "source": [
    " print(df_DV.columns)"
   ]
  },
  {
   "cell_type": "code",
   "execution_count": 11,
   "metadata": {},
   "outputs": [
    {
     "data": {
      "text/plain": [
       "<matplotlib.axes._subplots.AxesSubplot at 0x7fe4fd1d3510>"
      ]
     },
     "execution_count": 11,
     "metadata": {},
     "output_type": "execute_result"
    },
    {
     "data": {
      "image/png": "[encoded data removed]",
      "text/plain": [
       "<Figure size 432x288 with 1 Axes>"
      ]
     },
     "metadata": {
      "needs_background": "light"
     },
     "output_type": "display_data"
    }
   ],
   "source": [
    "df_DV.plot('date', ['last_available_confirmed', 'last_available_deaths'])"
   ]
  },
  {
   "cell_type": "code",
   "execution_count": 16,
   "metadata": {},
   "outputs": [
    {
     "data": {
      "text/html": [
       "<div>\n",
       "<style scoped>\n",
       "    .dataframe tbody tr th:only-of-type {\n",
       "        vertical-align: middle;\n",
       "    }\n",
       "\n",
       "    .dataframe tbody tr th {\n",
       "        vertical-align: top;\n",
       "    }\n",
       "\n",
       "    .dataframe thead th {\n",
       "        text-align: right;\n",
       "    }\n",
       "</style>\n",
       "<table border=\"1\" class=\"dataframe\">\n",
       "  <thead>\n",
       "    <tr style=\"text-align: right;\">\n",
       "      <th></th>\n",
       "      <th>city</th>\n",
       "      <th>date</th>\n",
       "      <th>last_available_confirmed</th>\n",
       "      <th>last_available_deaths</th>\n",
       "    </tr>\n",
       "  </thead>\n",
       "  <tbody>\n",
       "    <tr>\n",
       "      <th>340873</th>\n",
       "      <td>Abatiá</td>\n",
       "      <td>2020-07-10</td>\n",
       "      <td>52</td>\n",
       "      <td>0</td>\n",
       "    </tr>\n",
       "    <tr>\n",
       "      <th>340874</th>\n",
       "      <td>Adrianópolis</td>\n",
       "      <td>2020-07-10</td>\n",
       "      <td>57</td>\n",
       "      <td>2</td>\n",
       "    </tr>\n",
       "    <tr>\n",
       "      <th>340875</th>\n",
       "      <td>Agudos do Sul</td>\n",
       "      <td>2020-07-10</td>\n",
       "      <td>39</td>\n",
       "      <td>0</td>\n",
       "    </tr>\n",
       "    <tr>\n",
       "      <th>340876</th>\n",
       "      <td>Almirante Tamandaré</td>\n",
       "      <td>2020-07-10</td>\n",
       "      <td>336</td>\n",
       "      <td>4</td>\n",
       "    </tr>\n",
       "    <tr>\n",
       "      <th>340877</th>\n",
       "      <td>Altamira do Paraná</td>\n",
       "      <td>2020-07-10</td>\n",
       "      <td>1</td>\n",
       "      <td>0</td>\n",
       "    </tr>\n",
       "  </tbody>\n",
       "</table>\n",
       "</div>"
      ],
      "text/latex": [
       "\\centering{\\begin{tabular}{lllrr}\n",
       "\\toprule\n",
       "{} &                 city &        date &  last\\_available\\_confirmed &  last\\_available\\_deaths \\\\\n",
       "\\midrule\n",
       "340873 &               Abatiá &  2020-07-10 &                        52 &                      0 \\\\\n",
       "340874 &         Adrianópolis &  2020-07-10 &                        57 &                      2 \\\\\n",
       "340875 &        Agudos do Sul &  2020-07-10 &                        39 &                      0 \\\\\n",
       "340876 &  Almirante Tamandaré &  2020-07-10 &                       336 &                      4 \\\\\n",
       "340877 &   Altamira do Paraná &  2020-07-10 &                         1 &                      0 \\\\\n",
       "\\bottomrule\n",
       "\\end{tabular}\n",
       "}"
      ],
      "text/plain": [
       "                       city        date  last_available_confirmed  \\\n",
       "340873               Abatiá  2020-07-10                        52   \n",
       "340874         Adrianópolis  2020-07-10                        57   \n",
       "340875        Agudos do Sul  2020-07-10                        39   \n",
       "340876  Almirante Tamandaré  2020-07-10                       336   \n",
       "340877   Altamira do Paraná  2020-07-10                         1   \n",
       "\n",
       "        last_available_deaths  \n",
       "340873                      0  \n",
       "340874                      2  \n",
       "340875                      0  \n",
       "340876                      4  \n",
       "340877                      0  "
      ]
     },
     "execution_count": 16,
     "metadata": {},
     "output_type": "execute_result"
    }
   ],
   "source": [
    "filtro_estado_PR_10_julho = (df_completo['state'] == 'PR') & (df_completo['place_type'] == 'city') & (df_completo['date'] == '2020-07-10')\n",
    "df_PR_1007 = df_completo[filtro_estado_PR_10_julho]\n",
    "df_PR_1007.head()[cols]"
   ]
  },
  {
   "cell_type": "code",
   "execution_count": 17,
   "metadata": {},
   "outputs": [
    {
     "data": {
      "text/html": [
       "<div>\n",
       "<style scoped>\n",
       "    .dataframe tbody tr th:only-of-type {\n",
       "        vertical-align: middle;\n",
       "    }\n",
       "\n",
       "    .dataframe tbody tr th {\n",
       "        vertical-align: top;\n",
       "    }\n",
       "\n",
       "    .dataframe thead th {\n",
       "        text-align: right;\n",
       "    }\n",
       "</style>\n",
       "<table border=\"1\" class=\"dataframe\">\n",
       "  <thead>\n",
       "    <tr style=\"text-align: right;\">\n",
       "      <th></th>\n",
       "      <th>estimated_population_2019</th>\n",
       "      <th>last_available_confirmed</th>\n",
       "      <th>last_available_deaths</th>\n",
       "    </tr>\n",
       "  </thead>\n",
       "  <tbody>\n",
       "    <tr>\n",
       "      <th>count</th>\n",
       "      <td>3.790000e+02</td>\n",
       "      <td>380.000000</td>\n",
       "      <td>380.000000</td>\n",
       "    </tr>\n",
       "    <tr>\n",
       "      <th>mean</th>\n",
       "      <td>2.995080e+04</td>\n",
       "      <td>103.978947</td>\n",
       "      <td>2.573684</td>\n",
       "    </tr>\n",
       "    <tr>\n",
       "      <th>std</th>\n",
       "      <td>1.121534e+05</td>\n",
       "      <td>500.868564</td>\n",
       "      <td>12.833512</td>\n",
       "    </tr>\n",
       "    <tr>\n",
       "      <th>min</th>\n",
       "      <td>1.331000e+03</td>\n",
       "      <td>0.000000</td>\n",
       "      <td>0.000000</td>\n",
       "    </tr>\n",
       "    <tr>\n",
       "      <th>25%</th>\n",
       "      <td>5.279000e+03</td>\n",
       "      <td>7.750000</td>\n",
       "      <td>0.000000</td>\n",
       "    </tr>\n",
       "    <tr>\n",
       "      <th>50%</th>\n",
       "      <td>1.047200e+04</td>\n",
       "      <td>19.000000</td>\n",
       "      <td>0.000000</td>\n",
       "    </tr>\n",
       "    <tr>\n",
       "      <th>75%</th>\n",
       "      <td>1.929050e+04</td>\n",
       "      <td>56.000000</td>\n",
       "      <td>1.000000</td>\n",
       "    </tr>\n",
       "    <tr>\n",
       "      <th>max</th>\n",
       "      <td>1.933105e+06</td>\n",
       "      <td>8431.000000</td>\n",
       "      <td>210.000000</td>\n",
       "    </tr>\n",
       "  </tbody>\n",
       "</table>\n",
       "</div>"
      ],
      "text/latex": [
       "\\centering{\\begin{tabular}{lrrr}\n",
       "\\toprule\n",
       "{} &  estimated\\_population\\_2019 &  last\\_available\\_confirmed &  last\\_available\\_deaths \\\\\n",
       "\\midrule\n",
       "count &               3.790000e+02 &                380.000000 &             380.000000 \\\\\n",
       "mean  &               2.995080e+04 &                103.978947 &               2.573684 \\\\\n",
       "std   &               1.121534e+05 &                500.868564 &              12.833512 \\\\\n",
       "min   &               1.331000e+03 &                  0.000000 &               0.000000 \\\\\n",
       "25\\%   &               5.279000e+03 &                  7.750000 &               0.000000 \\\\\n",
       "50\\%   &               1.047200e+04 &                 19.000000 &               0.000000 \\\\\n",
       "75\\%   &               1.929050e+04 &                 56.000000 &               1.000000 \\\\\n",
       "max   &               1.933105e+06 &               8431.000000 &             210.000000 \\\\\n",
       "\\bottomrule\n",
       "\\end{tabular}\n",
       "}"
      ],
      "text/plain": [
       "       estimated_population_2019  last_available_confirmed  \\\n",
       "count               3.790000e+02                380.000000   \n",
       "mean                2.995080e+04                103.978947   \n",
       "std                 1.121534e+05                500.868564   \n",
       "min                 1.331000e+03                  0.000000   \n",
       "25%                 5.279000e+03                  7.750000   \n",
       "50%                 1.047200e+04                 19.000000   \n",
       "75%                 1.929050e+04                 56.000000   \n",
       "max                 1.933105e+06               8431.000000   \n",
       "\n",
       "       last_available_deaths  \n",
       "count             380.000000  \n",
       "mean                2.573684  \n",
       "std                12.833512  \n",
       "min                 0.000000  \n",
       "25%                 0.000000  \n",
       "50%                 0.000000  \n",
       "75%                 1.000000  \n",
       "max               210.000000  "
      ]
     },
     "execution_count": 17,
     "metadata": {},
     "output_type": "execute_result"
    }
   ],
   "source": [
    " df_PR_1007[['estimated_population_2019',\n",
    "             'last_available_confirmed',\n",
    "             'last_available_deaths']].describe()"
   ]
  },
  {
   "cell_type": "code",
   "execution_count": 19,
   "metadata": {},
   "outputs": [
    {
     "data": {
      "text/html": [
       "<div>\n",
       "<style scoped>\n",
       "    .dataframe tbody tr th:only-of-type {\n",
       "        vertical-align: middle;\n",
       "    }\n",
       "\n",
       "    .dataframe tbody tr th {\n",
       "        vertical-align: top;\n",
       "    }\n",
       "\n",
       "    .dataframe thead th {\n",
       "        text-align: right;\n",
       "    }\n",
       "</style>\n",
       "<table border=\"1\" class=\"dataframe\">\n",
       "  <thead>\n",
       "    <tr style=\"text-align: right;\">\n",
       "      <th></th>\n",
       "      <th>estimated_population_2019</th>\n",
       "      <th>last_available_confirmed</th>\n",
       "      <th>last_available_deaths</th>\n",
       "    </tr>\n",
       "  </thead>\n",
       "  <tbody>\n",
       "    <tr>\n",
       "      <th>340965</th>\n",
       "      <td>40641.0</td>\n",
       "      <td>17</td>\n",
       "      <td>0</td>\n",
       "    </tr>\n",
       "  </tbody>\n",
       "</table>\n",
       "</div>"
      ],
      "text/latex": [
       "\\centering{\\begin{tabular}{lrrr}\n",
       "\\toprule\n",
       "{} &  estimated\\_population\\_2019 &  last\\_available\\_confirmed &  last\\_available\\_deaths \\\\\n",
       "\\midrule\n",
       "340965 &                    40641.0 &                        17 &                      0 \\\\\n",
       "\\bottomrule\n",
       "\\end{tabular}\n",
       "}"
      ],
      "text/plain": [
       "        estimated_population_2019  last_available_confirmed  \\\n",
       "340965                    40641.0                        17   \n",
       "\n",
       "        last_available_deaths  \n",
       "340965                      0  "
      ]
     },
     "execution_count": 19,
     "metadata": {},
     "output_type": "execute_result"
    }
   ],
   "source": [
    "df_DV_1007 = df_DV[df_DV['date'] == '2020-07-10']\n",
    "df_DV_1007[['estimated_population_2019',\n",
    "            'last_available_confirmed',\n",
    "            'last_available_deaths']]"
   ]
  },
  {
   "cell_type": "code",
   "execution_count": 20,
   "metadata": {},
   "outputs": [],
   "source": [
    "df_CT_1007 = df_PR_1007[df_PR_1007['city'] == 'Curitiba']"
   ]
  },
  {
   "cell_type": "code",
   "execution_count": 21,
   "metadata": {},
   "outputs": [
    {
     "data": {
      "text/html": [
       "<div>\n",
       "<style scoped>\n",
       "    .dataframe tbody tr th:only-of-type {\n",
       "        vertical-align: middle;\n",
       "    }\n",
       "\n",
       "    .dataframe tbody tr th {\n",
       "        vertical-align: top;\n",
       "    }\n",
       "\n",
       "    .dataframe thead th {\n",
       "        text-align: right;\n",
       "    }\n",
       "</style>\n",
       "<table border=\"1\" class=\"dataframe\">\n",
       "  <thead>\n",
       "    <tr style=\"text-align: right;\">\n",
       "      <th></th>\n",
       "      <th>city</th>\n",
       "      <th>date</th>\n",
       "      <th>last_available_confirmed</th>\n",
       "      <th>last_available_deaths</th>\n",
       "    </tr>\n",
       "  </thead>\n",
       "  <tbody>\n",
       "    <tr>\n",
       "      <th>340965</th>\n",
       "      <td>Dois Vizinhos</td>\n",
       "      <td>2020-07-10</td>\n",
       "      <td>17</td>\n",
       "      <td>0</td>\n",
       "    </tr>\n",
       "    <tr>\n",
       "      <th>340958</th>\n",
       "      <td>Curitiba</td>\n",
       "      <td>2020-07-10</td>\n",
       "      <td>8431</td>\n",
       "      <td>210</td>\n",
       "    </tr>\n",
       "  </tbody>\n",
       "</table>\n",
       "</div>"
      ],
      "text/latex": [
       "\\centering{\\begin{tabular}{lllrr}\n",
       "\\toprule\n",
       "{} &           city &        date &  last\\_available\\_confirmed &  last\\_available\\_deaths \\\\\n",
       "\\midrule\n",
       "340965 &  Dois Vizinhos &  2020-07-10 &                        17 &                      0 \\\\\n",
       "340958 &       Curitiba &  2020-07-10 &                      8431 &                    210 \\\\\n",
       "\\bottomrule\n",
       "\\end{tabular}\n",
       "}"
      ],
      "text/plain": [
       "                 city        date  last_available_confirmed  \\\n",
       "340965  Dois Vizinhos  2020-07-10                        17   \n",
       "340958       Curitiba  2020-07-10                      8431   \n",
       "\n",
       "        last_available_deaths  \n",
       "340965                      0  \n",
       "340958                    210  "
      ]
     },
     "execution_count": 21,
     "metadata": {},
     "output_type": "execute_result"
    }
   ],
   "source": [
    "df_selecionadas_1007 = pd.concat([df_DV_1007, df_CT_1007])\n",
    "df_selecionadas_1007[cols]"
   ]
  },
  {
   "cell_type": "code",
   "execution_count": 22,
   "metadata": {},
   "outputs": [
    {
     "data": {
      "text/plain": [
       "<matplotlib.axes._subplots.AxesSubplot at 0x7fe4fd168050>"
      ]
     },
     "execution_count": 22,
     "metadata": {},
     "output_type": "execute_result"
    },
    {
     "data": {
      "image/png": "[encoded data removed]",
      "text/plain": [
       "<Figure size 432x288 with 1 Axes>"
      ]
     },
     "metadata": {
      "needs_background": "light"
     },
     "output_type": "display_data"
    }
   ],
   "source": [
    " df_selecionadas_1007.plot.bar('city', 'last_available_confirmed')"
   ]
  },
  {
   "cell_type": "code",
   "execution_count": 24,
   "metadata": {},
   "outputs": [
    {
     "data": {
      "text/plain": [
       "<matplotlib.axes._subplots.AxesSubplot at 0x7fe4fd0edb90>"
      ]
     },
     "execution_count": 24,
     "metadata": {},
     "output_type": "execute_result"
    },
    {
     "data": {
      "image/png": "[encoded data removed]",
      "text/plain": [
       "<Figure size 432x288 with 1 Axes>"
      ]
     },
     "metadata": {
      "needs_background": "light"
     },
     "output_type": "display_data"
    }
   ],
   "source": [
    "df_selecionadas_1007.plot.bar('city', ['last_available_confirmed',\n",
    "'last_available_deaths'])"
   ]
  },
  {
   "cell_type": "code",
   "execution_count": 26,
   "metadata": {},
   "outputs": [
    {
     "data": {
      "text/html": [
       "<div>\n",
       "<style scoped>\n",
       "    .dataframe tbody tr th:only-of-type {\n",
       "        vertical-align: middle;\n",
       "    }\n",
       "\n",
       "    .dataframe tbody tr th {\n",
       "        vertical-align: top;\n",
       "    }\n",
       "\n",
       "    .dataframe thead th {\n",
       "        text-align: right;\n",
       "    }\n",
       "</style>\n",
       "<table border=\"1\" class=\"dataframe\">\n",
       "  <thead>\n",
       "    <tr style=\"text-align: right;\">\n",
       "      <th></th>\n",
       "      <th>city</th>\n",
       "      <th>date</th>\n",
       "      <th>last_available_confirmed</th>\n",
       "      <th>last_available_deaths</th>\n",
       "    </tr>\n",
       "  </thead>\n",
       "  <tbody>\n",
       "    <tr>\n",
       "      <th>340965</th>\n",
       "      <td>Dois Vizinhos</td>\n",
       "      <td>2020-07-10</td>\n",
       "      <td>17</td>\n",
       "      <td>0</td>\n",
       "    </tr>\n",
       "    <tr>\n",
       "      <th>340958</th>\n",
       "      <td>Curitiba</td>\n",
       "      <td>2020-07-10</td>\n",
       "      <td>8431</td>\n",
       "      <td>210</td>\n",
       "    </tr>\n",
       "    <tr>\n",
       "      <th>341133</th>\n",
       "      <td>Ponta Grossa</td>\n",
       "      <td>2020-07-10</td>\n",
       "      <td>545</td>\n",
       "      <td>3</td>\n",
       "    </tr>\n",
       "    <tr>\n",
       "      <th>341118</th>\n",
       "      <td>Pato Branco</td>\n",
       "      <td>2020-07-10</td>\n",
       "      <td>206</td>\n",
       "      <td>1</td>\n",
       "    </tr>\n",
       "    <tr>\n",
       "      <th>341055</th>\n",
       "      <td>Londrina</td>\n",
       "      <td>2020-07-10</td>\n",
       "      <td>1873</td>\n",
       "      <td>92</td>\n",
       "    </tr>\n",
       "  </tbody>\n",
       "</table>\n",
       "</div>"
      ],
      "text/latex": [
       "\\centering{\\begin{tabular}{lllrr}\n",
       "\\toprule\n",
       "{} &           city &        date &  last\\_available\\_confirmed &  last\\_available\\_deaths \\\\\n",
       "\\midrule\n",
       "340965 &  Dois Vizinhos &  2020-07-10 &                        17 &                      0 \\\\\n",
       "340958 &       Curitiba &  2020-07-10 &                      8431 &                    210 \\\\\n",
       "341133 &   Ponta Grossa &  2020-07-10 &                       545 &                      3 \\\\\n",
       "341118 &    Pato Branco &  2020-07-10 &                       206 &                      1 \\\\\n",
       "341055 &       Londrina &  2020-07-10 &                      1873 &                     92 \\\\\n",
       "\\bottomrule\n",
       "\\end{tabular}\n",
       "}"
      ],
      "text/plain": [
       "                 city        date  last_available_confirmed  \\\n",
       "340965  Dois Vizinhos  2020-07-10                        17   \n",
       "340958       Curitiba  2020-07-10                      8431   \n",
       "341133   Ponta Grossa  2020-07-10                       545   \n",
       "341118    Pato Branco  2020-07-10                       206   \n",
       "341055       Londrina  2020-07-10                      1873   \n",
       "\n",
       "        last_available_deaths  \n",
       "340965                      0  \n",
       "340958                    210  \n",
       "341133                      3  \n",
       "341118                      1  \n",
       "341055                     92  "
      ]
     },
     "execution_count": 26,
     "metadata": {},
     "output_type": "execute_result"
    }
   ],
   "source": [
    "cidades = ['Dois Vizinhos',\n",
    "           'Curitiba',\n",
    "           'Ponta Grossa',\n",
    "           'Pato Branco',\n",
    "           'Londrina']\n",
    "frames = list()\n",
    "for c in cidades:\n",
    "    frames.append(df_PR_1007[df_PR_1007['city'] == c])\n",
    "df_selecionadas_1007 = pd.concat(frames)\n",
    "df_selecionadas_1007.head()[cols]"
   ]
  },
  {
   "cell_type": "code",
   "execution_count": 27,
   "metadata": {},
   "outputs": [
    {
     "data": {
      "text/plain": [
       "<matplotlib.axes._subplots.AxesSubplot at 0x7fe4fd085790>"
      ]
     },
     "execution_count": 27,
     "metadata": {},
     "output_type": "execute_result"
    },
    {
     "data": {
      "image/png": "[encoded data removed]",
      "text/plain": [
       "<Figure size 432x288 with 1 Axes>"
      ]
     },
     "metadata": {
      "needs_background": "light"
     },
     "output_type": "display_data"
    }
   ],
   "source": [
    "df_selecionadas_1007.plot.bar('city', ['last_available_confirmed',\n",
    "'last_available_deaths'])"
   ]
  },
  {
   "cell_type": "code",
   "execution_count": 28,
   "metadata": {},
   "outputs": [
    {
     "data": {
      "text/html": [
       "<div>\n",
       "<style scoped>\n",
       "    .dataframe tbody tr th:only-of-type {\n",
       "        vertical-align: middle;\n",
       "    }\n",
       "\n",
       "    .dataframe tbody tr th {\n",
       "        vertical-align: top;\n",
       "    }\n",
       "\n",
       "    .dataframe thead th {\n",
       "        text-align: right;\n",
       "    }\n",
       "</style>\n",
       "<table border=\"1\" class=\"dataframe\">\n",
       "  <thead>\n",
       "    <tr style=\"text-align: right;\">\n",
       "      <th></th>\n",
       "      <th>city</th>\n",
       "      <th>date</th>\n",
       "      <th>last_available_confirmed</th>\n",
       "      <th>last_available_deaths</th>\n",
       "    </tr>\n",
       "  </thead>\n",
       "  <tbody>\n",
       "    <tr>\n",
       "      <th>1</th>\n",
       "      <td>NaN</td>\n",
       "      <td>2020-02-25</td>\n",
       "      <td>1</td>\n",
       "      <td>0</td>\n",
       "    </tr>\n",
       "    <tr>\n",
       "      <th>3</th>\n",
       "      <td>NaN</td>\n",
       "      <td>2020-02-26</td>\n",
       "      <td>1</td>\n",
       "      <td>0</td>\n",
       "    </tr>\n",
       "    <tr>\n",
       "      <th>5</th>\n",
       "      <td>NaN</td>\n",
       "      <td>2020-02-27</td>\n",
       "      <td>1</td>\n",
       "      <td>0</td>\n",
       "    </tr>\n",
       "    <tr>\n",
       "      <th>7</th>\n",
       "      <td>NaN</td>\n",
       "      <td>2020-02-28</td>\n",
       "      <td>2</td>\n",
       "      <td>0</td>\n",
       "    </tr>\n",
       "    <tr>\n",
       "      <th>9</th>\n",
       "      <td>NaN</td>\n",
       "      <td>2020-02-29</td>\n",
       "      <td>2</td>\n",
       "      <td>0</td>\n",
       "    </tr>\n",
       "  </tbody>\n",
       "</table>\n",
       "</div>"
      ],
      "text/latex": [
       "\\centering{\\begin{tabular}{lllrr}\n",
       "\\toprule\n",
       "{} & city &        date &  last\\_available\\_confirmed &  last\\_available\\_deaths \\\\\n",
       "\\midrule\n",
       "1 &  NaN &  2020-02-25 &                         1 &                      0 \\\\\n",
       "3 &  NaN &  2020-02-26 &                         1 &                      0 \\\\\n",
       "5 &  NaN &  2020-02-27 &                         1 &                      0 \\\\\n",
       "7 &  NaN &  2020-02-28 &                         2 &                      0 \\\\\n",
       "9 &  NaN &  2020-02-29 &                         2 &                      0 \\\\\n",
       "\\bottomrule\n",
       "\\end{tabular}\n",
       "}"
      ],
      "text/plain": [
       "  city        date  last_available_confirmed  last_available_deaths\n",
       "1  NaN  2020-02-25                         1                      0\n",
       "3  NaN  2020-02-26                         1                      0\n",
       "5  NaN  2020-02-27                         1                      0\n",
       "7  NaN  2020-02-28                         2                      0\n",
       "9  NaN  2020-02-29                         2                      0"
      ]
     },
     "execution_count": 28,
     "metadata": {},
     "output_type": "execute_result"
    }
   ],
   "source": [
    "filtro_estados = (df_completo['place_type'] == 'state')\n",
    "df_estados = df_completo[filtro_estados]\n",
    "df_estados.head()[cols]"
   ]
  },
  {
   "cell_type": "code",
   "execution_count": 29,
   "metadata": {},
   "outputs": [
    {
     "data": {
      "text/html": [
       "<div>\n",
       "<style scoped>\n",
       "    .dataframe tbody tr th:only-of-type {\n",
       "        vertical-align: middle;\n",
       "    }\n",
       "\n",
       "    .dataframe tbody tr th {\n",
       "        vertical-align: top;\n",
       "    }\n",
       "\n",
       "    .dataframe thead th {\n",
       "        text-align: right;\n",
       "    }\n",
       "</style>\n",
       "<table border=\"1\" class=\"dataframe\">\n",
       "  <thead>\n",
       "    <tr style=\"text-align: right;\">\n",
       "      <th>state</th>\n",
       "      <th>AC</th>\n",
       "      <th>AL</th>\n",
       "      <th>AM</th>\n",
       "      <th>AP</th>\n",
       "      <th>BA</th>\n",
       "    </tr>\n",
       "    <tr>\n",
       "      <th>date</th>\n",
       "      <th></th>\n",
       "      <th></th>\n",
       "      <th></th>\n",
       "      <th></th>\n",
       "      <th></th>\n",
       "    </tr>\n",
       "  </thead>\n",
       "  <tbody>\n",
       "    <tr>\n",
       "      <th>2020-02-25</th>\n",
       "      <td>NaN</td>\n",
       "      <td>NaN</td>\n",
       "      <td>NaN</td>\n",
       "      <td>NaN</td>\n",
       "      <td>NaN</td>\n",
       "    </tr>\n",
       "    <tr>\n",
       "      <th>2020-02-26</th>\n",
       "      <td>NaN</td>\n",
       "      <td>NaN</td>\n",
       "      <td>NaN</td>\n",
       "      <td>NaN</td>\n",
       "      <td>NaN</td>\n",
       "    </tr>\n",
       "    <tr>\n",
       "      <th>2020-02-27</th>\n",
       "      <td>NaN</td>\n",
       "      <td>NaN</td>\n",
       "      <td>NaN</td>\n",
       "      <td>NaN</td>\n",
       "      <td>NaN</td>\n",
       "    </tr>\n",
       "    <tr>\n",
       "      <th>2020-02-28</th>\n",
       "      <td>NaN</td>\n",
       "      <td>NaN</td>\n",
       "      <td>NaN</td>\n",
       "      <td>NaN</td>\n",
       "      <td>NaN</td>\n",
       "    </tr>\n",
       "    <tr>\n",
       "      <th>2020-02-29</th>\n",
       "      <td>NaN</td>\n",
       "      <td>NaN</td>\n",
       "      <td>NaN</td>\n",
       "      <td>NaN</td>\n",
       "      <td>NaN</td>\n",
       "    </tr>\n",
       "    <tr>\n",
       "      <th>2020-03-01</th>\n",
       "      <td>NaN</td>\n",
       "      <td>NaN</td>\n",
       "      <td>NaN</td>\n",
       "      <td>NaN</td>\n",
       "      <td>NaN</td>\n",
       "    </tr>\n",
       "    <tr>\n",
       "      <th>2020-03-02</th>\n",
       "      <td>NaN</td>\n",
       "      <td>NaN</td>\n",
       "      <td>NaN</td>\n",
       "      <td>NaN</td>\n",
       "      <td>NaN</td>\n",
       "    </tr>\n",
       "    <tr>\n",
       "      <th>2020-03-03</th>\n",
       "      <td>NaN</td>\n",
       "      <td>NaN</td>\n",
       "      <td>NaN</td>\n",
       "      <td>NaN</td>\n",
       "      <td>NaN</td>\n",
       "    </tr>\n",
       "    <tr>\n",
       "      <th>2020-03-04</th>\n",
       "      <td>NaN</td>\n",
       "      <td>NaN</td>\n",
       "      <td>NaN</td>\n",
       "      <td>NaN</td>\n",
       "      <td>NaN</td>\n",
       "    </tr>\n",
       "    <tr>\n",
       "      <th>2020-03-05</th>\n",
       "      <td>NaN</td>\n",
       "      <td>NaN</td>\n",
       "      <td>NaN</td>\n",
       "      <td>NaN</td>\n",
       "      <td>NaN</td>\n",
       "    </tr>\n",
       "  </tbody>\n",
       "</table>\n",
       "</div>"
      ],
      "text/latex": [
       "\\centering{\\begin{tabular}{lrrrrr}\n",
       "\\toprule\n",
       "state &  AC &  AL &  AM &  AP &  BA \\\\\n",
       "date       &     &     &     &     &     \\\\\n",
       "\\midrule\n",
       "2020-02-25 & NaN & NaN & NaN & NaN & NaN \\\\\n",
       "2020-02-26 & NaN & NaN & NaN & NaN & NaN \\\\\n",
       "2020-02-27 & NaN & NaN & NaN & NaN & NaN \\\\\n",
       "2020-02-28 & NaN & NaN & NaN & NaN & NaN \\\\\n",
       "2020-02-29 & NaN & NaN & NaN & NaN & NaN \\\\\n",
       "2020-03-01 & NaN & NaN & NaN & NaN & NaN \\\\\n",
       "2020-03-02 & NaN & NaN & NaN & NaN & NaN \\\\\n",
       "2020-03-03 & NaN & NaN & NaN & NaN & NaN \\\\\n",
       "2020-03-04 & NaN & NaN & NaN & NaN & NaN \\\\\n",
       "2020-03-05 & NaN & NaN & NaN & NaN & NaN \\\\\n",
       "\\bottomrule\n",
       "\\end{tabular}\n",
       "}"
      ],
      "text/plain": [
       "state       AC  AL  AM  AP  BA\n",
       "date                          \n",
       "2020-02-25 NaN NaN NaN NaN NaN\n",
       "2020-02-26 NaN NaN NaN NaN NaN\n",
       "2020-02-27 NaN NaN NaN NaN NaN\n",
       "2020-02-28 NaN NaN NaN NaN NaN\n",
       "2020-02-29 NaN NaN NaN NaN NaN\n",
       "2020-03-01 NaN NaN NaN NaN NaN\n",
       "2020-03-02 NaN NaN NaN NaN NaN\n",
       "2020-03-03 NaN NaN NaN NaN NaN\n",
       "2020-03-04 NaN NaN NaN NaN NaN\n",
       "2020-03-05 NaN NaN NaN NaN NaN"
      ]
     },
     "execution_count": 29,
     "metadata": {},
     "output_type": "execute_result"
    }
   ],
   "source": [
    "df_pivo_estado = df_estados.pivot(index='date',\n",
    "                                  columns='state',\n",
    "                                  values='last_available_confirmed')\n",
    "df_pivo_estado.iloc[:10, :5] "
   ]
  },
  {
   "cell_type": "code",
   "execution_count": 30,
   "metadata": {},
   "outputs": [
    {
     "data": {
      "text/html": [
       "<div>\n",
       "<style scoped>\n",
       "    .dataframe tbody tr th:only-of-type {\n",
       "        vertical-align: middle;\n",
       "    }\n",
       "\n",
       "    .dataframe tbody tr th {\n",
       "        vertical-align: top;\n",
       "    }\n",
       "\n",
       "    .dataframe thead th {\n",
       "        text-align: right;\n",
       "    }\n",
       "</style>\n",
       "<table border=\"1\" class=\"dataframe\">\n",
       "  <thead>\n",
       "    <tr style=\"text-align: right;\">\n",
       "      <th>state</th>\n",
       "      <th>AC</th>\n",
       "      <th>AL</th>\n",
       "      <th>AM</th>\n",
       "      <th>AP</th>\n",
       "      <th>BA</th>\n",
       "    </tr>\n",
       "    <tr>\n",
       "      <th>date</th>\n",
       "      <th></th>\n",
       "      <th></th>\n",
       "      <th></th>\n",
       "      <th></th>\n",
       "      <th></th>\n",
       "    </tr>\n",
       "  </thead>\n",
       "  <tbody>\n",
       "    <tr>\n",
       "      <th>2020-07-03</th>\n",
       "      <td>14112.0</td>\n",
       "      <td>38404.0</td>\n",
       "      <td>74537.0</td>\n",
       "      <td>29574.0</td>\n",
       "      <td>82314.0</td>\n",
       "    </tr>\n",
       "    <tr>\n",
       "      <th>2020-07-04</th>\n",
       "      <td>14487.0</td>\n",
       "      <td>39255.0</td>\n",
       "      <td>75502.0</td>\n",
       "      <td>29809.0</td>\n",
       "      <td>85485.0</td>\n",
       "    </tr>\n",
       "    <tr>\n",
       "      <th>2020-07-05</th>\n",
       "      <td>14622.0</td>\n",
       "      <td>39935.0</td>\n",
       "      <td>76014.0</td>\n",
       "      <td>29883.0</td>\n",
       "      <td>87048.0</td>\n",
       "    </tr>\n",
       "    <tr>\n",
       "      <th>2020-07-06</th>\n",
       "      <td>14688.0</td>\n",
       "      <td>40569.0</td>\n",
       "      <td>76427.0</td>\n",
       "      <td>30004.0</td>\n",
       "      <td>88279.0</td>\n",
       "    </tr>\n",
       "    <tr>\n",
       "      <th>2020-07-07</th>\n",
       "      <td>14941.0</td>\n",
       "      <td>41524.0</td>\n",
       "      <td>79167.0</td>\n",
       "      <td>30294.0</td>\n",
       "      <td>91954.0</td>\n",
       "    </tr>\n",
       "    <tr>\n",
       "      <th>2020-07-08</th>\n",
       "      <td>15167.0</td>\n",
       "      <td>42322.0</td>\n",
       "      <td>80082.0</td>\n",
       "      <td>30524.0</td>\n",
       "      <td>95536.0</td>\n",
       "    </tr>\n",
       "    <tr>\n",
       "      <th>2020-07-09</th>\n",
       "      <td>15465.0</td>\n",
       "      <td>43191.0</td>\n",
       "      <td>81318.0</td>\n",
       "      <td>30763.0</td>\n",
       "      <td>98319.0</td>\n",
       "    </tr>\n",
       "    <tr>\n",
       "      <th>2020-07-10</th>\n",
       "      <td>15768.0</td>\n",
       "      <td>43959.0</td>\n",
       "      <td>82507.0</td>\n",
       "      <td>31080.0</td>\n",
       "      <td>101186.0</td>\n",
       "    </tr>\n",
       "    <tr>\n",
       "      <th>2020-07-11</th>\n",
       "      <td>16080.0</td>\n",
       "      <td>44633.0</td>\n",
       "      <td>83230.0</td>\n",
       "      <td>31279.0</td>\n",
       "      <td>104188.0</td>\n",
       "    </tr>\n",
       "    <tr>\n",
       "      <th>2020-07-12</th>\n",
       "      <td>16190.0</td>\n",
       "      <td>45330.0</td>\n",
       "      <td>83526.0</td>\n",
       "      <td>31364.0</td>\n",
       "      <td>105763.0</td>\n",
       "    </tr>\n",
       "  </tbody>\n",
       "</table>\n",
       "</div>"
      ],
      "text/latex": [
       "\\centering{\\begin{tabular}{lrrrrr}\n",
       "\\toprule\n",
       "state &       AC &       AL &       AM &       AP &        BA \\\\\n",
       "date       &          &          &          &          &           \\\\\n",
       "\\midrule\n",
       "2020-07-03 &  14112.0 &  38404.0 &  74537.0 &  29574.0 &   82314.0 \\\\\n",
       "2020-07-04 &  14487.0 &  39255.0 &  75502.0 &  29809.0 &   85485.0 \\\\\n",
       "2020-07-05 &  14622.0 &  39935.0 &  76014.0 &  29883.0 &   87048.0 \\\\\n",
       "2020-07-06 &  14688.0 &  40569.0 &  76427.0 &  30004.0 &   88279.0 \\\\\n",
       "2020-07-07 &  14941.0 &  41524.0 &  79167.0 &  30294.0 &   91954.0 \\\\\n",
       "2020-07-08 &  15167.0 &  42322.0 &  80082.0 &  30524.0 &   95536.0 \\\\\n",
       "2020-07-09 &  15465.0 &  43191.0 &  81318.0 &  30763.0 &   98319.0 \\\\\n",
       "2020-07-10 &  15768.0 &  43959.0 &  82507.0 &  31080.0 &  101186.0 \\\\\n",
       "2020-07-11 &  16080.0 &  44633.0 &  83230.0 &  31279.0 &  104188.0 \\\\\n",
       "2020-07-12 &  16190.0 &  45330.0 &  83526.0 &  31364.0 &  105763.0 \\\\\n",
       "\\bottomrule\n",
       "\\end{tabular}\n",
       "}"
      ],
      "text/plain": [
       "state            AC       AL       AM       AP        BA\n",
       "date                                                    \n",
       "2020-07-03  14112.0  38404.0  74537.0  29574.0   82314.0\n",
       "2020-07-04  14487.0  39255.0  75502.0  29809.0   85485.0\n",
       "2020-07-05  14622.0  39935.0  76014.0  29883.0   87048.0\n",
       "2020-07-06  14688.0  40569.0  76427.0  30004.0   88279.0\n",
       "2020-07-07  14941.0  41524.0  79167.0  30294.0   91954.0\n",
       "2020-07-08  15167.0  42322.0  80082.0  30524.0   95536.0\n",
       "2020-07-09  15465.0  43191.0  81318.0  30763.0   98319.0\n",
       "2020-07-10  15768.0  43959.0  82507.0  31080.0  101186.0\n",
       "2020-07-11  16080.0  44633.0  83230.0  31279.0  104188.0\n",
       "2020-07-12  16190.0  45330.0  83526.0  31364.0  105763.0"
      ]
     },
     "execution_count": 30,
     "metadata": {},
     "output_type": "execute_result"
    }
   ],
   "source": [
    "df_pivo_estado.iloc[-10:, :5]"
   ]
  },
  {
   "cell_type": "code",
   "execution_count": 31,
   "metadata": {},
   "outputs": [
    {
     "data": {
      "text/html": [
       "<div>\n",
       "<style scoped>\n",
       "    .dataframe tbody tr th:only-of-type {\n",
       "        vertical-align: middle;\n",
       "    }\n",
       "\n",
       "    .dataframe tbody tr th {\n",
       "        vertical-align: top;\n",
       "    }\n",
       "\n",
       "    .dataframe thead th {\n",
       "        text-align: right;\n",
       "    }\n",
       "</style>\n",
       "<table border=\"1\" class=\"dataframe\">\n",
       "  <thead>\n",
       "    <tr style=\"text-align: right;\">\n",
       "      <th>state</th>\n",
       "      <th>MG</th>\n",
       "      <th>MS</th>\n",
       "      <th>MT</th>\n",
       "      <th>PA</th>\n",
       "      <th>PB</th>\n",
       "    </tr>\n",
       "    <tr>\n",
       "      <th>date</th>\n",
       "      <th></th>\n",
       "      <th></th>\n",
       "      <th></th>\n",
       "      <th></th>\n",
       "      <th></th>\n",
       "    </tr>\n",
       "  </thead>\n",
       "  <tbody>\n",
       "    <tr>\n",
       "      <th>2020-07-03</th>\n",
       "      <td>53351.0</td>\n",
       "      <td>9910.0</td>\n",
       "      <td>19540.0</td>\n",
       "      <td>112531.0</td>\n",
       "      <td>50765.0</td>\n",
       "    </tr>\n",
       "    <tr>\n",
       "      <th>2020-07-04</th>\n",
       "      <td>55958.0</td>\n",
       "      <td>10089.0</td>\n",
       "      <td>20333.0</td>\n",
       "      <td>113811.0</td>\n",
       "      <td>52306.0</td>\n",
       "    </tr>\n",
       "    <tr>\n",
       "      <th>2020-07-05</th>\n",
       "      <td>58283.0</td>\n",
       "      <td>10253.0</td>\n",
       "      <td>21081.0</td>\n",
       "      <td>114535.0</td>\n",
       "      <td>52728.0</td>\n",
       "    </tr>\n",
       "    <tr>\n",
       "      <th>2020-07-06</th>\n",
       "      <td>59626.0</td>\n",
       "      <td>10687.0</td>\n",
       "      <td>22078.0</td>\n",
       "      <td>116152.0</td>\n",
       "      <td>53151.0</td>\n",
       "    </tr>\n",
       "    <tr>\n",
       "      <th>2020-07-07</th>\n",
       "      <td>60897.0</td>\n",
       "      <td>11063.0</td>\n",
       "      <td>23506.0</td>\n",
       "      <td>118744.0</td>\n",
       "      <td>54802.0</td>\n",
       "    </tr>\n",
       "    <tr>\n",
       "      <th>2020-07-08</th>\n",
       "      <td>64035.0</td>\n",
       "      <td>11671.0</td>\n",
       "      <td>24804.0</td>\n",
       "      <td>120731.0</td>\n",
       "      <td>56344.0</td>\n",
       "    </tr>\n",
       "    <tr>\n",
       "      <th>2020-07-09</th>\n",
       "      <td>66864.0</td>\n",
       "      <td>12261.0</td>\n",
       "      <td>26396.0</td>\n",
       "      <td>122674.0</td>\n",
       "      <td>57614.0</td>\n",
       "    </tr>\n",
       "    <tr>\n",
       "      <th>2020-07-10</th>\n",
       "      <td>70086.0</td>\n",
       "      <td>12969.0</td>\n",
       "      <td>27636.0</td>\n",
       "      <td>124934.0</td>\n",
       "      <td>59118.0</td>\n",
       "    </tr>\n",
       "    <tr>\n",
       "      <th>2020-07-11</th>\n",
       "      <td>73813.0</td>\n",
       "      <td>13197.0</td>\n",
       "      <td>27636.0</td>\n",
       "      <td>125714.0</td>\n",
       "      <td>60421.0</td>\n",
       "    </tr>\n",
       "    <tr>\n",
       "      <th>2020-07-12</th>\n",
       "      <td>75851.0</td>\n",
       "      <td>13197.0</td>\n",
       "      <td>28791.0</td>\n",
       "      <td>126509.0</td>\n",
       "      <td>60784.0</td>\n",
       "    </tr>\n",
       "  </tbody>\n",
       "</table>\n",
       "</div>"
      ],
      "text/latex": [
       "\\centering{\\begin{tabular}{lrrrrr}\n",
       "\\toprule\n",
       "state &       MG &       MS &       MT &        PA &       PB \\\\\n",
       "date       &          &          &          &           &          \\\\\n",
       "\\midrule\n",
       "2020-07-03 &  53351.0 &   9910.0 &  19540.0 &  112531.0 &  50765.0 \\\\\n",
       "2020-07-04 &  55958.0 &  10089.0 &  20333.0 &  113811.0 &  52306.0 \\\\\n",
       "2020-07-05 &  58283.0 &  10253.0 &  21081.0 &  114535.0 &  52728.0 \\\\\n",
       "2020-07-06 &  59626.0 &  10687.0 &  22078.0 &  116152.0 &  53151.0 \\\\\n",
       "2020-07-07 &  60897.0 &  11063.0 &  23506.0 &  118744.0 &  54802.0 \\\\\n",
       "2020-07-08 &  64035.0 &  11671.0 &  24804.0 &  120731.0 &  56344.0 \\\\\n",
       "2020-07-09 &  66864.0 &  12261.0 &  26396.0 &  122674.0 &  57614.0 \\\\\n",
       "2020-07-10 &  70086.0 &  12969.0 &  27636.0 &  124934.0 &  59118.0 \\\\\n",
       "2020-07-11 &  73813.0 &  13197.0 &  27636.0 &  125714.0 &  60421.0 \\\\\n",
       "2020-07-12 &  75851.0 &  13197.0 &  28791.0 &  126509.0 &  60784.0 \\\\\n",
       "\\bottomrule\n",
       "\\end{tabular}\n",
       "}"
      ],
      "text/plain": [
       "state            MG       MS       MT        PA       PB\n",
       "date                                                    \n",
       "2020-07-03  53351.0   9910.0  19540.0  112531.0  50765.0\n",
       "2020-07-04  55958.0  10089.0  20333.0  113811.0  52306.0\n",
       "2020-07-05  58283.0  10253.0  21081.0  114535.0  52728.0\n",
       "2020-07-06  59626.0  10687.0  22078.0  116152.0  53151.0\n",
       "2020-07-07  60897.0  11063.0  23506.0  118744.0  54802.0\n",
       "2020-07-08  64035.0  11671.0  24804.0  120731.0  56344.0\n",
       "2020-07-09  66864.0  12261.0  26396.0  122674.0  57614.0\n",
       "2020-07-10  70086.0  12969.0  27636.0  124934.0  59118.0\n",
       "2020-07-11  73813.0  13197.0  27636.0  125714.0  60421.0\n",
       "2020-07-12  75851.0  13197.0  28791.0  126509.0  60784.0"
      ]
     },
     "execution_count": 31,
     "metadata": {},
     "output_type": "execute_result"
    }
   ],
   "source": [
    "df_pivo_estado.iloc[-10:, 10:15]"
   ]
  },
  {
   "cell_type": "code",
   "execution_count": 32,
   "metadata": {},
   "outputs": [
    {
     "data": {
      "text/plain": [
       "Index(['2020-02-25', '2020-02-26', '2020-02-27', '2020-02-28', '2020-02-29',\n",
       "       '2020-03-01', '2020-03-02', '2020-03-03', '2020-03-04', '2020-03-05',\n",
       "       ...\n",
       "       '2020-07-03', '2020-07-04', '2020-07-05', '2020-07-06', '2020-07-07',\n",
       "       '2020-07-08', '2020-07-09', '2020-07-10', '2020-07-11', '2020-07-12'],\n",
       "      dtype='object', name='date', length=139)"
      ]
     },
     "execution_count": 32,
     "metadata": {},
     "output_type": "execute_result"
    }
   ],
   "source": [
    "df_pivo_estado.index"
   ]
  },
  {
   "cell_type": "code",
   "execution_count": 33,
   "metadata": {},
   "outputs": [
    {
     "data": {
      "text/plain": [
       "Index(['AC', 'AL', 'AM', 'AP', 'BA', 'CE', 'DF', 'ES', 'GO', 'MA', 'MG', 'MS',\n",
       "       'MT', 'PA', 'PB', 'PE', 'PI', 'PR', 'RJ', 'RN', 'RO', 'RR', 'RS', 'SC',\n",
       "       'SE', 'SP', 'TO'],\n",
       "      dtype='object', name='state')"
      ]
     },
     "execution_count": 33,
     "metadata": {},
     "output_type": "execute_result"
    }
   ],
   "source": [
    "df_pivo_estado.columns"
   ]
  },
  {
   "cell_type": "code",
   "execution_count": 34,
   "metadata": {},
   "outputs": [
    {
     "data": {
      "text/html": [
       "<div>\n",
       "<style scoped>\n",
       "    .dataframe tbody tr th:only-of-type {\n",
       "        vertical-align: middle;\n",
       "    }\n",
       "\n",
       "    .dataframe tbody tr th {\n",
       "        vertical-align: top;\n",
       "    }\n",
       "\n",
       "    .dataframe thead th {\n",
       "        text-align: right;\n",
       "    }\n",
       "</style>\n",
       "<table border=\"1\" class=\"dataframe\">\n",
       "  <thead>\n",
       "    <tr style=\"text-align: right;\">\n",
       "      <th>state</th>\n",
       "      <th>RS</th>\n",
       "      <th>SC</th>\n",
       "      <th>SE</th>\n",
       "      <th>SP</th>\n",
       "      <th>TO</th>\n",
       "    </tr>\n",
       "    <tr>\n",
       "      <th>date</th>\n",
       "      <th></th>\n",
       "      <th></th>\n",
       "      <th></th>\n",
       "      <th></th>\n",
       "      <th></th>\n",
       "    </tr>\n",
       "  </thead>\n",
       "  <tbody>\n",
       "    <tr>\n",
       "      <th>2020-02-25</th>\n",
       "      <td>0.0</td>\n",
       "      <td>0.0</td>\n",
       "      <td>0.0</td>\n",
       "      <td>1.0</td>\n",
       "      <td>0.0</td>\n",
       "    </tr>\n",
       "    <tr>\n",
       "      <th>2020-02-26</th>\n",
       "      <td>0.0</td>\n",
       "      <td>0.0</td>\n",
       "      <td>0.0</td>\n",
       "      <td>1.0</td>\n",
       "      <td>0.0</td>\n",
       "    </tr>\n",
       "    <tr>\n",
       "      <th>2020-02-27</th>\n",
       "      <td>0.0</td>\n",
       "      <td>0.0</td>\n",
       "      <td>0.0</td>\n",
       "      <td>1.0</td>\n",
       "      <td>0.0</td>\n",
       "    </tr>\n",
       "    <tr>\n",
       "      <th>2020-02-28</th>\n",
       "      <td>0.0</td>\n",
       "      <td>0.0</td>\n",
       "      <td>0.0</td>\n",
       "      <td>2.0</td>\n",
       "      <td>0.0</td>\n",
       "    </tr>\n",
       "    <tr>\n",
       "      <th>2020-02-29</th>\n",
       "      <td>0.0</td>\n",
       "      <td>0.0</td>\n",
       "      <td>0.0</td>\n",
       "      <td>2.0</td>\n",
       "      <td>0.0</td>\n",
       "    </tr>\n",
       "    <tr>\n",
       "      <th>2020-03-01</th>\n",
       "      <td>0.0</td>\n",
       "      <td>0.0</td>\n",
       "      <td>0.0</td>\n",
       "      <td>2.0</td>\n",
       "      <td>0.0</td>\n",
       "    </tr>\n",
       "    <tr>\n",
       "      <th>2020-03-02</th>\n",
       "      <td>0.0</td>\n",
       "      <td>0.0</td>\n",
       "      <td>0.0</td>\n",
       "      <td>2.0</td>\n",
       "      <td>0.0</td>\n",
       "    </tr>\n",
       "    <tr>\n",
       "      <th>2020-03-03</th>\n",
       "      <td>0.0</td>\n",
       "      <td>0.0</td>\n",
       "      <td>0.0</td>\n",
       "      <td>2.0</td>\n",
       "      <td>0.0</td>\n",
       "    </tr>\n",
       "    <tr>\n",
       "      <th>2020-03-04</th>\n",
       "      <td>0.0</td>\n",
       "      <td>0.0</td>\n",
       "      <td>0.0</td>\n",
       "      <td>3.0</td>\n",
       "      <td>0.0</td>\n",
       "    </tr>\n",
       "    <tr>\n",
       "      <th>2020-03-05</th>\n",
       "      <td>0.0</td>\n",
       "      <td>0.0</td>\n",
       "      <td>0.0</td>\n",
       "      <td>6.0</td>\n",
       "      <td>0.0</td>\n",
       "    </tr>\n",
       "  </tbody>\n",
       "</table>\n",
       "</div>"
      ],
      "text/latex": [
       "\\centering{\\begin{tabular}{lrrrrr}\n",
       "\\toprule\n",
       "state &   RS &   SC &   SE &   SP &   TO \\\\\n",
       "date       &      &      &      &      &      \\\\\n",
       "\\midrule\n",
       "2020-02-25 &  0.0 &  0.0 &  0.0 &  1.0 &  0.0 \\\\\n",
       "2020-02-26 &  0.0 &  0.0 &  0.0 &  1.0 &  0.0 \\\\\n",
       "2020-02-27 &  0.0 &  0.0 &  0.0 &  1.0 &  0.0 \\\\\n",
       "2020-02-28 &  0.0 &  0.0 &  0.0 &  2.0 &  0.0 \\\\\n",
       "2020-02-29 &  0.0 &  0.0 &  0.0 &  2.0 &  0.0 \\\\\n",
       "2020-03-01 &  0.0 &  0.0 &  0.0 &  2.0 &  0.0 \\\\\n",
       "2020-03-02 &  0.0 &  0.0 &  0.0 &  2.0 &  0.0 \\\\\n",
       "2020-03-03 &  0.0 &  0.0 &  0.0 &  2.0 &  0.0 \\\\\n",
       "2020-03-04 &  0.0 &  0.0 &  0.0 &  3.0 &  0.0 \\\\\n",
       "2020-03-05 &  0.0 &  0.0 &  0.0 &  6.0 &  0.0 \\\\\n",
       "\\bottomrule\n",
       "\\end{tabular}\n",
       "}"
      ],
      "text/plain": [
       "state        RS   SC   SE   SP   TO\n",
       "date                               \n",
       "2020-02-25  0.0  0.0  0.0  1.0  0.0\n",
       "2020-02-26  0.0  0.0  0.0  1.0  0.0\n",
       "2020-02-27  0.0  0.0  0.0  1.0  0.0\n",
       "2020-02-28  0.0  0.0  0.0  2.0  0.0\n",
       "2020-02-29  0.0  0.0  0.0  2.0  0.0\n",
       "2020-03-01  0.0  0.0  0.0  2.0  0.0\n",
       "2020-03-02  0.0  0.0  0.0  2.0  0.0\n",
       "2020-03-03  0.0  0.0  0.0  2.0  0.0\n",
       "2020-03-04  0.0  0.0  0.0  3.0  0.0\n",
       "2020-03-05  0.0  0.0  0.0  6.0  0.0"
      ]
     },
     "execution_count": 34,
     "metadata": {},
     "output_type": "execute_result"
    }
   ],
   "source": [
    "df_pivo_estado = df_pivo_estado.fillna(0)\n",
    "df_pivo_estado.iloc[:10, -5:]"
   ]
  },
  {
   "cell_type": "code",
   "execution_count": 35,
   "metadata": {},
   "outputs": [
    {
     "data": {
      "text/plain": [
       "<matplotlib.axes._subplots.AxesSubplot at 0x7fe4fcfa18d0>"
      ]
     },
     "execution_count": 35,
     "metadata": {},
     "output_type": "execute_result"
    },
    {
     "data": {
      "image/png": "[encoded data removed]",
      "text/plain": [
       "<Figure size 432x288 with 1 Axes>"
      ]
     },
     "metadata": {
      "needs_background": "light"
     },
     "output_type": "display_data"
    }
   ],
   "source": [
    "df_pivo_estado.plot()"
   ]
  },
  {
   "cell_type": "code",
   "execution_count": 36,
   "metadata": {},
   "outputs": [
    {
     "data": {
      "text/plain": [
       "<matplotlib.axes._subplots.AxesSubplot at 0x7fe4fce0f5d0>"
      ]
     },
     "execution_count": 36,
     "metadata": {},
     "output_type": "execute_result"
    },
    {
     "data": {
      "image/png": "[encoded data removed]",
      "text/plain": [
       "<Figure size 432x288 with 1 Axes>"
      ]
     },
     "metadata": {
      "needs_background": "light"
     },
     "output_type": "display_data"
    }
   ],
   "source": [
    "df_pivo_estado.plot(None, ['RS', 'SC', 'PR'])"
   ]
  },
  {
   "cell_type": "code",
   "execution_count": 37,
   "metadata": {},
   "outputs": [
    {
     "data": {
      "text/plain": [
       "<matplotlib.axes._subplots.AxesSubplot at 0x7fe4fcdf0990>"
      ]
     },
     "execution_count": 37,
     "metadata": {},
     "output_type": "execute_result"
    },
    {
     "data": {
      "image/png": "[encoded data removed]",
      "text/plain": [
       "<Figure size 432x288 with 1 Axes>"
      ]
     },
     "metadata": {
      "needs_background": "light"
     },
     "output_type": "display_data"
    }
   ],
   "source": [
    "filtro_data_estado = df_estados['date'] == '2020-07-10'\n",
    "df_estados_1007 = df_estados[filtro_data_estado]\n",
    "df_estados_1007.plot.bar('state', ['last_available_confirmed', 'last_available_deaths'])"
   ]
  },
  {
   "cell_type": "code",
   "execution_count": null,
   "metadata": {},
   "outputs": [],
   "source": []
  }
 ],
 "metadata": {
  "kernelspec": {
   "display_name": "Python 3",
   "language": "python",
   "name": "python3"
  },
  "language_info": {
   "codemirror_mode": {
    "name": "ipython",
    "version": 3
   },
   "file_extension": ".py",
   "mimetype": "text/x-python",
   "name": "python",
   "nbconvert_exporter": "python",
   "pygments_lexer": "ipython3",
   "version": "3.7.7"
  }
 },
 "nbformat": 4,
 "nbformat_minor": 4
}
